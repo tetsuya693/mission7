{
 "cells": [
  {
   "cell_type": "code",
   "execution_count": null,
   "metadata": {},
   "outputs": [
    {
     "name": "stdout",
     "output_type": "stream",
     "text": [
      "Requirement already satisfied: flask in c:\\users\\iot\\anaconda3\\lib\\site-packages (1.0.2)\n",
      "Requirement already satisfied: Werkzeug>=0.14 in c:\\users\\iot\\anaconda3\\lib\\site-packages (from flask) (0.14.1)\n",
      "Requirement already satisfied: click>=5.1 in c:\\users\\iot\\anaconda3\\lib\\site-packages (from flask) (6.7)\n",
      "Requirement already satisfied: Jinja2>=2.10 in c:\\users\\iot\\anaconda3\\lib\\site-packages (from flask) (2.10)\n",
      "Requirement already satisfied: itsdangerous>=0.24 in c:\\users\\iot\\anaconda3\\lib\\site-packages (from flask) (0.24)\n",
      "Requirement already satisfied: MarkupSafe>=0.23 in c:\\users\\iot\\anaconda3\\lib\\site-packages (from Jinja2>=2.10->flask) (1.0)\n"
     ]
    },
    {
     "name": "stderr",
     "output_type": "stream",
     "text": [
      "twisted 18.7.0 requires PyHamcrest>=1.9.0, which is not installed.\n",
      "You are using pip version 10.0.1, however version 18.1 is available.\n",
      "You should consider upgrading via the 'python -m pip install --upgrade pip' command.\n"
     ]
    },
    {
     "name": "stdout",
     "output_type": "stream",
     "text": [
      " * Serving Flask app \"__main__\" (lazy loading)\n",
      " * Environment: production\n",
      "   WARNING: Do not use the development server in a production environment.\n",
      "   Use a production WSGI server instead.\n",
      " * Debug mode: off\n"
     ]
    },
    {
     "name": "stderr",
     "output_type": "stream",
     "text": [
      " * Running on http://0.0.0.0:5000/ (Press CTRL+C to quit)\n",
      "10.120.23.235 - - [11/Jan/2019 15:04:46] \"GET /?id=123 HTTP/1.1\" 200 -\n",
      "10.120.23.235 - - [11/Jan/2019 15:04:46] \"GET /favicon.ico HTTP/1.1\" 404 -\n",
      "10.120.23.235 - - [11/Jan/2019 15:04:51] \"GET /?id=789 HTTP/1.1\" 200 -\n",
      "10.120.23.235 - - [11/Jan/2019 15:04:56] \"GET /?id=0204 HTTP/1.1\" 200 -\n",
      "10.120.23.235 - - [11/Jan/2019 15:05:01] \"GET /?id=123 HTTP/1.1\" 200 -\n",
      "10.120.23.235 - - [11/Jan/2019 15:06:02] \"GET /?id=avasfdf HTTP/1.1\" 200 -\n",
      "10.120.23.235 - - [11/Jan/2019 15:06:22] \"GET /?id=fuck%20you%20mother%20fuck HTTP/1.1\" 200 -\n",
      "10.120.23.235 - - [11/Jan/2019 15:06:31] \"GET /?id=123 HTTP/1.1\" 200 -\n"
     ]
    }
   ],
   "source": [
    "#安裝flask套件\n",
    "!pip install flask\n",
    "\n",
    "#引用套件\n",
    "from flask import Flask, request, abort, jsonify\n",
    "\n",
    "#設置app啟動點\n",
    "app = Flask(__name__,static_url_path = \"/images\" , static_folder = \"./images/\" )\n",
    "\n",
    "#定義app訪問路徑/及用戶能對此端口用get方法訪問\n",
    "@app.route('/',methods=['GET'])\n",
    "\n",
    "def hello_world():\n",
    "    #用戶能對此端口用GET方法訪問\n",
    "    #並且挾帶query string， id=xxx\n",
    "    t = request.args.get('id')\n",
    "    #若用戶傳入 id=123，則傳回json  {\"userId\":123}\n",
    "    jsonDict = {'userId':t}\n",
    "    return jsonify(jsonDict)\n",
    "\n",
    "#啟用app(為user設計一個端口，win10記得去防火牆設定port規則)\n",
    "if __name__ == \"__main__\":\n",
    "    app.run(host='0.0.0.0',port='5000')"
   ]
  },
  {
   "cell_type": "code",
   "execution_count": null,
   "metadata": {},
   "outputs": [],
   "source": []
  }
 ],
 "metadata": {
  "kernelspec": {
   "display_name": "Python 3",
   "language": "python",
   "name": "python3"
  },
  "language_info": {
   "codemirror_mode": {
    "name": "ipython",
    "version": 3
   },
   "file_extension": ".py",
   "mimetype": "text/x-python",
   "name": "python",
   "nbconvert_exporter": "python",
   "pygments_lexer": "ipython3",
   "version": "3.7.0"
  }
 },
 "nbformat": 4,
 "nbformat_minor": 2
}
